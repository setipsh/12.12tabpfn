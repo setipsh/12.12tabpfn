{
 "cells": [
  {
   "cell_type": "code",
   "execution_count": 1,
   "id": "110b806b-657e-4949-8323-57fbcec8e7d3",
   "metadata": {},
   "outputs": [],
   "source": [
    "import torch\n",
    "from tabpfn import TabPFNClassifier  # 替换为你的模型定义"
   ]
  },
  {
   "cell_type": "code",
   "execution_count": 5,
   "id": "a37e9d78-628f-46e4-89d5-79d646e03682",
   "metadata": {
    "tags": []
   },
   "outputs": [
    {
     "name": "stdout",
     "output_type": "stream",
     "text": [
      "Loading /root/miniconda3/lib/python3.8/site-packages/tabpfn/models_diff/prior_diff_real_checkpoint_n_0_epoch_42.cpkt\n",
      "Loading model that can be used for inference only\n"
     ]
    },
    {
     "data": {
      "text/plain": [
       "TransformerModel(\n",
       "  (transformer_encoder): TransformerEncoderDiffInit(\n",
       "    (layers): ModuleList(\n",
       "      (0-11): 12 x TransformerEncoderLayer(\n",
       "        (self_attn): MultiheadAttention(\n",
       "          (out_proj): NonDynamicallyQuantizableLinear(in_features=512, out_features=512, bias=True)\n",
       "        )\n",
       "        (linear1): Linear(in_features=512, out_features=1024, bias=True)\n",
       "        (dropout): Dropout(p=0.0, inplace=False)\n",
       "        (linear2): Linear(in_features=1024, out_features=512, bias=True)\n",
       "        (norm1): LayerNorm((512,), eps=1e-05, elementwise_affine=True)\n",
       "        (norm2): LayerNorm((512,), eps=1e-05, elementwise_affine=True)\n",
       "        (dropout1): Dropout(p=0.0, inplace=False)\n",
       "        (dropout2): Dropout(p=0.0, inplace=False)\n",
       "      )\n",
       "    )\n",
       "  )\n",
       "  (encoder): Linear(in_features=100, out_features=512, bias=True)\n",
       "  (y_encoder): Linear(in_features=1, out_features=512, bias=True)\n",
       "  (decoder): Sequential(\n",
       "    (0): Linear(in_features=512, out_features=1024, bias=True)\n",
       "    (1): GELU(approximate='none')\n",
       "    (2): Linear(in_features=1024, out_features=10, bias=True)\n",
       "  )\n",
       "  (criterion): CrossEntropyLoss()\n",
       ")"
      ]
     },
     "execution_count": 5,
     "metadata": {},
     "output_type": "execute_result"
    }
   ],
   "source": [
    "# 加载 TabPFNClassifier 模型\n",
    "model = TabPFNClassifier(device='cuda', model_file=\"/root/miniconda3/lib/python3.8/site-packages/tabpfn/models_diff/prior_diff_real_checkpoint_n_0_epoch_42.cpkt\")\n",
    "transformer_model = model.model[2]  # 获取模型的 transformer 模块\n",
    "\n",
    "# 加载保存的模型状态\n",
    "checkpoint_path = \"/root/miniconda3/lib/python3.8/site-packages/tabpfn/models_diff/prior_diff_real_checkpoint_n_0_epoch_42.cpkt\"\n",
    "checkpoint = torch.load(checkpoint_path)\n",
    "\n",
    "transformer_model.cuda()"
   ]
  },
  {
   "cell_type": "code",
   "execution_count": null,
   "id": "4de8273e-8c6e-4a29-999f-c8e88e4115b8",
   "metadata": {},
   "outputs": [],
   "source": [
    "attention_weights_list = model.attention_weights_list  # 从模型中获取注意力权重"
   ]
  }
 ],
 "metadata": {
  "kernelspec": {
   "display_name": "Python 3 (ipykernel)",
   "language": "python",
   "name": "python3"
  },
  "language_info": {
   "codemirror_mode": {
    "name": "ipython",
    "version": 3
   },
   "file_extension": ".py",
   "mimetype": "text/x-python",
   "name": "python",
   "nbconvert_exporter": "python",
   "pygments_lexer": "ipython3",
   "version": "3.8.10"
  }
 },
 "nbformat": 4,
 "nbformat_minor": 5
}
